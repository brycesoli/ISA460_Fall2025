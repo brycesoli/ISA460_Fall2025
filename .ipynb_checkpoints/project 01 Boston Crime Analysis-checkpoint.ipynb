{
  "cells": [
    {
      "cell_type": "markdown",
      "id": "6e609694-8556-4b9e-bcfe-16fecdbffe5e",
      "metadata": {
        "id": "6e609694-8556-4b9e-bcfe-16fecdbffe5e"
      },
      "source": [
        "# Boston Crime Data Analysis\n",
        "This project is based on Boston Crime data between 2021-current date downloaded from [this link](https://data.boston.gov/dataset/crime-incident-reports-august-2015-to-date-source-new-system)\n",
        "\n",
        "Please answer the following ten questions and visualize each result. Please label each question clearly.\n",
        "\n",
        "1. display number of crime by year, order by year\n",
        "2. display number of crime by year and month in the format of year-month, order by year_month.\n",
        "3. display average crime by month between 2021 and 2025. Visualize your result.\n",
        "4. display average, min and max crime by month between 2021 and 2025\n",
        "5. what time of the day has the highest crime\n",
        "6. display number of crimes by weekday and the time of the day\n",
        "7. display top 5 district based on number of crimes\n",
        "8. for each top 5 districts, display top 5 types of crimes (offense_description) based on number of crimes\n",
        "9. Display percent of shooting by year.\n",
        "10. Which offenses likely lead to shooting. Show top 5 offense by year.\n",
        "\n",
        "**Note for the visulaiztion:**\n",
        "\n",
        "- Select the appropriate chart type for each question to enhance clarity and understanding.\n",
        "- Use an effective and consistent color scheme to make charts easy to interpret.\n",
        "- Ensure that the chosen chart type emphasizes key insights without overwhelming or confusing the audience.\n",
        "\n",
        "\n",
        "In addtion, there are many interesting questions you can explore using this dataset. Please come up at least five questions and develop Pyspark code to answer your questions and visualze the result. Please write a few paragraphs at the end to summarize your findings. Your summary should include the above 10 questions and your own questions. Your own questions cannot be an existing question at the above and need to meaningful. You may want to start with developing an objective before developing your questions.\n",
        "\n",
        "## Note: Please using Pyspark to answer question, not python code."
      ]
    },
    {
      "cell_type": "markdown",
      "id": "c7519ad8-3517-4602-b56c-918a36e697b2",
      "metadata": {
        "id": "c7519ad8-3517-4602-b56c-918a36e697b2"
      },
      "source": [
        "## Import dataset"
      ]
    },
    {
      "cell_type": "code",
      "execution_count": 2,
      "id": "6398400b-81f2-477d-be3e-8c3e3bfa2bb8",
      "metadata": {
        "tags": [],
        "id": "6398400b-81f2-477d-be3e-8c3e3bfa2bb8",
        "outputId": "0647ec90-10d8-4d7d-97e0-d6d6831b6b4b",
        "colab": {
          "base_uri": "https://localhost:8080/",
          "height": 356
        }
      },
      "outputs": [
        {
          "output_type": "error",
          "ename": "AnalysisException",
          "evalue": "[PATH_NOT_FOUND] Path does not exist: file:/opt/shared/boston_crime.",
          "traceback": [
            "\u001b[0;31m---------------------------------------------------------------------------\u001b[0m",
            "\u001b[0;31mAnalysisException\u001b[0m                         Traceback (most recent call last)",
            "\u001b[0;32m/tmp/ipython-input-3395379156.py\u001b[0m in \u001b[0;36m<cell line: 0>\u001b[0;34m()\u001b[0m\n\u001b[1;32m     18\u001b[0m \u001b[0;34m\u001b[0m\u001b[0m\n\u001b[1;32m     19\u001b[0m \u001b[0;31m# read the csv file, remove year with null value and remove current month (Septmber 2025)\u001b[0m\u001b[0;34m\u001b[0m\u001b[0;34m\u001b[0m\u001b[0m\n\u001b[0;32m---> 20\u001b[0;31m \u001b[0mcrime\u001b[0m \u001b[0;34m=\u001b[0m \u001b[0mspark\u001b[0m\u001b[0;34m.\u001b[0m\u001b[0mread\u001b[0m\u001b[0;34m.\u001b[0m\u001b[0mcsv\u001b[0m\u001b[0;34m(\u001b[0m\u001b[0;34m\"/opt/shared/boston_crime\"\u001b[0m\u001b[0;34m,\u001b[0m \u001b[0mheader\u001b[0m\u001b[0;34m=\u001b[0m\u001b[0;32mTrue\u001b[0m\u001b[0;34m,\u001b[0m \u001b[0minferSchema\u001b[0m\u001b[0;34m=\u001b[0m\u001b[0;32mTrue\u001b[0m\u001b[0;34m)\u001b[0m\u001b[0;34m.\u001b[0m\u001b[0mfilter\u001b[0m\u001b[0;34m(\u001b[0m\u001b[0mF\u001b[0m\u001b[0;34m.\u001b[0m\u001b[0misnull\u001b[0m\u001b[0;34m(\u001b[0m\u001b[0mF\u001b[0m\u001b[0;34m.\u001b[0m\u001b[0mcol\u001b[0m\u001b[0;34m(\u001b[0m\u001b[0;34m'year'\u001b[0m\u001b[0;34m)\u001b[0m\u001b[0;34m)\u001b[0m\u001b[0;34m==\u001b[0m\u001b[0;32mFalse\u001b[0m\u001b[0;34m)\u001b[0m\u001b[0;31m\\\u001b[0m\u001b[0;34m\u001b[0m\u001b[0;34m\u001b[0m\u001b[0m\n\u001b[0m\u001b[1;32m     21\u001b[0m        \u001b[0;34m.\u001b[0m\u001b[0mfilter\u001b[0m\u001b[0;34m(\u001b[0m\u001b[0mF\u001b[0m\u001b[0;34m.\u001b[0m\u001b[0mdate_format\u001b[0m\u001b[0;34m(\u001b[0m\u001b[0mF\u001b[0m\u001b[0;34m.\u001b[0m\u001b[0mcol\u001b[0m\u001b[0;34m(\u001b[0m\u001b[0;34m'occurred_on_date'\u001b[0m\u001b[0;34m)\u001b[0m\u001b[0;34m,\u001b[0m \u001b[0;34m'yyyy-MM'\u001b[0m\u001b[0;34m)\u001b[0m\u001b[0;34m!=\u001b[0m\u001b[0;34m'2025-09'\u001b[0m\u001b[0;34m)\u001b[0m\u001b[0;34m\u001b[0m\u001b[0;34m\u001b[0m\u001b[0m\n\u001b[1;32m     22\u001b[0m \u001b[0;34m\u001b[0m\u001b[0m\n",
            "\u001b[0;32m/usr/local/lib/python3.12/dist-packages/pyspark/sql/readwriter.py\u001b[0m in \u001b[0;36mcsv\u001b[0;34m(self, path, schema, sep, encoding, quote, escape, comment, header, inferSchema, ignoreLeadingWhiteSpace, ignoreTrailingWhiteSpace, nullValue, nanValue, positiveInf, negativeInf, dateFormat, timestampFormat, maxColumns, maxCharsPerColumn, maxMalformedLogPerPartition, mode, columnNameOfCorruptRecord, multiLine, charToEscapeQuoteEscaping, samplingRatio, enforceSchema, emptyValue, locale, lineSep, pathGlobFilter, recursiveFileLookup, modifiedBefore, modifiedAfter, unescapedQuoteHandling)\u001b[0m\n\u001b[1;32m    738\u001b[0m         \u001b[0;32mif\u001b[0m \u001b[0mtype\u001b[0m\u001b[0;34m(\u001b[0m\u001b[0mpath\u001b[0m\u001b[0;34m)\u001b[0m \u001b[0;34m==\u001b[0m \u001b[0mlist\u001b[0m\u001b[0;34m:\u001b[0m\u001b[0;34m\u001b[0m\u001b[0;34m\u001b[0m\u001b[0m\n\u001b[1;32m    739\u001b[0m             \u001b[0;32massert\u001b[0m \u001b[0mself\u001b[0m\u001b[0;34m.\u001b[0m\u001b[0m_spark\u001b[0m\u001b[0;34m.\u001b[0m\u001b[0m_sc\u001b[0m\u001b[0;34m.\u001b[0m\u001b[0m_jvm\u001b[0m \u001b[0;32mis\u001b[0m \u001b[0;32mnot\u001b[0m \u001b[0;32mNone\u001b[0m\u001b[0;34m\u001b[0m\u001b[0;34m\u001b[0m\u001b[0m\n\u001b[0;32m--> 740\u001b[0;31m             \u001b[0;32mreturn\u001b[0m \u001b[0mself\u001b[0m\u001b[0;34m.\u001b[0m\u001b[0m_df\u001b[0m\u001b[0;34m(\u001b[0m\u001b[0mself\u001b[0m\u001b[0;34m.\u001b[0m\u001b[0m_jreader\u001b[0m\u001b[0;34m.\u001b[0m\u001b[0mcsv\u001b[0m\u001b[0;34m(\u001b[0m\u001b[0mself\u001b[0m\u001b[0;34m.\u001b[0m\u001b[0m_spark\u001b[0m\u001b[0;34m.\u001b[0m\u001b[0m_sc\u001b[0m\u001b[0;34m.\u001b[0m\u001b[0m_jvm\u001b[0m\u001b[0;34m.\u001b[0m\u001b[0mPythonUtils\u001b[0m\u001b[0;34m.\u001b[0m\u001b[0mtoSeq\u001b[0m\u001b[0;34m(\u001b[0m\u001b[0mpath\u001b[0m\u001b[0;34m)\u001b[0m\u001b[0;34m)\u001b[0m\u001b[0;34m)\u001b[0m\u001b[0;34m\u001b[0m\u001b[0;34m\u001b[0m\u001b[0m\n\u001b[0m\u001b[1;32m    741\u001b[0m         \u001b[0;32melif\u001b[0m \u001b[0misinstance\u001b[0m\u001b[0;34m(\u001b[0m\u001b[0mpath\u001b[0m\u001b[0;34m,\u001b[0m \u001b[0mRDD\u001b[0m\u001b[0;34m)\u001b[0m\u001b[0;34m:\u001b[0m\u001b[0;34m\u001b[0m\u001b[0;34m\u001b[0m\u001b[0m\n\u001b[1;32m    742\u001b[0m \u001b[0;34m\u001b[0m\u001b[0m\n",
            "\u001b[0;32m/usr/local/lib/python3.12/dist-packages/py4j/java_gateway.py\u001b[0m in \u001b[0;36m__call__\u001b[0;34m(self, *args)\u001b[0m\n\u001b[1;32m   1320\u001b[0m \u001b[0;34m\u001b[0m\u001b[0m\n\u001b[1;32m   1321\u001b[0m         \u001b[0manswer\u001b[0m \u001b[0;34m=\u001b[0m \u001b[0mself\u001b[0m\u001b[0;34m.\u001b[0m\u001b[0mgateway_client\u001b[0m\u001b[0;34m.\u001b[0m\u001b[0msend_command\u001b[0m\u001b[0;34m(\u001b[0m\u001b[0mcommand\u001b[0m\u001b[0;34m)\u001b[0m\u001b[0;34m\u001b[0m\u001b[0;34m\u001b[0m\u001b[0m\n\u001b[0;32m-> 1322\u001b[0;31m         return_value = get_return_value(\n\u001b[0m\u001b[1;32m   1323\u001b[0m             answer, self.gateway_client, self.target_id, self.name)\n\u001b[1;32m   1324\u001b[0m \u001b[0;34m\u001b[0m\u001b[0m\n",
            "\u001b[0;32m/usr/local/lib/python3.12/dist-packages/pyspark/errors/exceptions/captured.py\u001b[0m in \u001b[0;36mdeco\u001b[0;34m(*a, **kw)\u001b[0m\n\u001b[1;32m    183\u001b[0m                 \u001b[0;31m# Hide where the exception came from that shows a non-Pythonic\u001b[0m\u001b[0;34m\u001b[0m\u001b[0;34m\u001b[0m\u001b[0m\n\u001b[1;32m    184\u001b[0m                 \u001b[0;31m# JVM exception message.\u001b[0m\u001b[0;34m\u001b[0m\u001b[0;34m\u001b[0m\u001b[0m\n\u001b[0;32m--> 185\u001b[0;31m                 \u001b[0;32mraise\u001b[0m \u001b[0mconverted\u001b[0m \u001b[0;32mfrom\u001b[0m \u001b[0;32mNone\u001b[0m\u001b[0;34m\u001b[0m\u001b[0;34m\u001b[0m\u001b[0m\n\u001b[0m\u001b[1;32m    186\u001b[0m             \u001b[0;32melse\u001b[0m\u001b[0;34m:\u001b[0m\u001b[0;34m\u001b[0m\u001b[0;34m\u001b[0m\u001b[0m\n\u001b[1;32m    187\u001b[0m                 \u001b[0;32mraise\u001b[0m\u001b[0;34m\u001b[0m\u001b[0;34m\u001b[0m\u001b[0m\n",
            "\u001b[0;31mAnalysisException\u001b[0m: [PATH_NOT_FOUND] Path does not exist: file:/opt/shared/boston_crime."
          ]
        }
      ],
      "source": [
        "from pyspark.sql import SparkSession\n",
        "import pyspark.sql.functions as F\n",
        "\n",
        "import pandas as pd\n",
        "import seaborn as sns\n",
        "import matplotlib.pyplot as plt\n",
        "\n",
        "import warnings\n",
        "warnings.filterwarnings(\"ignore\")\n",
        "\n",
        "# create a spark session\n",
        "spark = SparkSession.builder.appName(\"Boston Crime Analysis\")\\\n",
        "        .config(\"spark.port.maxRetries\", \"100\")\\\n",
        "        .getOrCreate()\n",
        "\n",
        "# confiture the log level (defaulty is WWARN)\n",
        "spark.sparkContext.setLogLevel('ERROR')\n",
        "\n",
        "# read the csv file, remove year with null value and remove current month (Septmber 2025)\n",
        "crime = spark.read.csv(\"/opt/shared/boston_crime\", header=True, inferSchema=True).filter(F.isnull(F.col('year'))==False)\\\n",
        "       .filter(F.date_format(F.col('occurred_on_date'), 'yyyy-MM')!='2025-09')\n",
        "\n",
        "# change all columns to lower case\n",
        "\n",
        "crime=crime.toDF(*[x.lower() for x in crime.columns])\n",
        "crime.show(5)"
      ]
    },
    {
      "cell_type": "code",
      "execution_count": null,
      "id": "af039e53-cc51-4cf4-9b78-e4b0189b7b8e",
      "metadata": {
        "tags": [],
        "id": "af039e53-cc51-4cf4-9b78-e4b0189b7b8e"
      },
      "outputs": [],
      "source": [
        "crime.groupBy('year').count().show()"
      ]
    },
    {
      "cell_type": "code",
      "execution_count": null,
      "id": "6d352c7e-f74a-46e7-a996-b66e0a89ef60",
      "metadata": {
        "tags": [],
        "id": "6d352c7e-f74a-46e7-a996-b66e0a89ef60"
      },
      "outputs": [],
      "source": [
        "crime.printSchema()"
      ]
    },
    {
      "cell_type": "code",
      "execution_count": null,
      "id": "f67aac42-03b8-4289-9a9b-add0048f34d4",
      "metadata": {
        "tags": [],
        "id": "f67aac42-03b8-4289-9a9b-add0048f34d4"
      },
      "outputs": [],
      "source": [
        "displayByGroup(crime, 5)"
      ]
    },
    {
      "cell_type": "markdown",
      "id": "2c6047d7-d9c1-491b-a0e8-fc8af7949d20",
      "metadata": {
        "id": "2c6047d7-d9c1-491b-a0e8-fc8af7949d20"
      },
      "source": [
        "## Example"
      ]
    },
    {
      "cell_type": "markdown",
      "id": "3c653b6a-2fee-46cb-a525-b00383d34d8f",
      "metadata": {
        "id": "3c653b6a-2fee-46cb-a525-b00383d34d8f"
      },
      "source": [
        "## Display top five offense"
      ]
    },
    {
      "cell_type": "code",
      "execution_count": null,
      "id": "4025a716-e0f8-40de-b7ab-31a1ee1f2cd5",
      "metadata": {
        "tags": [],
        "id": "4025a716-e0f8-40de-b7ab-31a1ee1f2cd5",
        "outputId": "64dde4f2-8b67-47d7-a1d4-9d3dfae44205"
      },
      "outputs": [
        {
          "name": "stdout",
          "output_type": "stream",
          "text": [
            "+--------------------+-----+\n",
            "| offense_description|count|\n",
            "+--------------------+-----+\n",
            "|  INVESTIGATE PERSON|40761|\n",
            "|         SICK ASSIST|32995|\n",
            "|M/V - LEAVING SCE...|25225|\n",
            "|INVESTIGATE PROPERTY|19590|\n",
            "| TOWED MOTOR VEHICLE|18115|\n",
            "+--------------------+-----+\n",
            "\n"
          ]
        }
      ],
      "source": [
        "crime.groupBy('offense_description').count().orderBy(F.desc('count')).limit(5).show()"
      ]
    },
    {
      "cell_type": "markdown",
      "id": "e2cd43ac-fca9-43d2-98a1-f6dda7171bdd",
      "metadata": {
        "id": "e2cd43ac-fca9-43d2-98a1-f6dda7171bdd"
      },
      "source": [
        "### Visualize the result"
      ]
    },
    {
      "cell_type": "code",
      "execution_count": null,
      "id": "5c1cf30e-8df8-4feb-ac39-cf7d4cb79d0c",
      "metadata": {
        "tags": [],
        "id": "5c1cf30e-8df8-4feb-ac39-cf7d4cb79d0c",
        "outputId": "67735275-2473-4bd3-b422-9867dda2b113"
      },
      "outputs": [
        {
          "data": {
            "text/html": [
              "<div>\n",
              "<style scoped>\n",
              "    .dataframe tbody tr th:only-of-type {\n",
              "        vertical-align: middle;\n",
              "    }\n",
              "\n",
              "    .dataframe tbody tr th {\n",
              "        vertical-align: top;\n",
              "    }\n",
              "\n",
              "    .dataframe thead th {\n",
              "        text-align: right;\n",
              "    }\n",
              "</style>\n",
              "<table border=\"1\" class=\"dataframe\">\n",
              "  <thead>\n",
              "    <tr style=\"text-align: right;\">\n",
              "      <th></th>\n",
              "      <th>offense_description</th>\n",
              "      <th>count</th>\n",
              "    </tr>\n",
              "  </thead>\n",
              "  <tbody>\n",
              "    <tr>\n",
              "      <th>0</th>\n",
              "      <td>INVESTIGATE PERSON</td>\n",
              "      <td>40761</td>\n",
              "    </tr>\n",
              "    <tr>\n",
              "      <th>1</th>\n",
              "      <td>SICK ASSIST</td>\n",
              "      <td>32995</td>\n",
              "    </tr>\n",
              "    <tr>\n",
              "      <th>2</th>\n",
              "      <td>M/V - LEAVING SCENE - PROPERTY DAMAGE</td>\n",
              "      <td>25225</td>\n",
              "    </tr>\n",
              "    <tr>\n",
              "      <th>3</th>\n",
              "      <td>INVESTIGATE PROPERTY</td>\n",
              "      <td>19590</td>\n",
              "    </tr>\n",
              "    <tr>\n",
              "      <th>4</th>\n",
              "      <td>TOWED MOTOR VEHICLE</td>\n",
              "      <td>18115</td>\n",
              "    </tr>\n",
              "  </tbody>\n",
              "</table>\n",
              "</div>"
            ],
            "text/plain": [
              "                     offense_description  count\n",
              "0                     INVESTIGATE PERSON  40761\n",
              "1                            SICK ASSIST  32995\n",
              "2  M/V - LEAVING SCENE - PROPERTY DAMAGE  25225\n",
              "3                   INVESTIGATE PROPERTY  19590\n",
              "4                    TOWED MOTOR VEHICLE  18115"
            ]
          },
          "execution_count": 22,
          "metadata": {},
          "output_type": "execute_result"
        }
      ],
      "source": [
        "# convert the result to pandas dataframe\n",
        "\n",
        "pd_df=crime.groupBy('offense_description').count().orderBy(F.desc('count')).limit(5).toPandas()\n",
        "\n",
        "pd_df.head()"
      ]
    },
    {
      "cell_type": "code",
      "execution_count": null,
      "id": "7471849a-3f3e-4922-b474-66b6574cae12",
      "metadata": {
        "tags": [],
        "id": "7471849a-3f3e-4922-b474-66b6574cae12",
        "outputId": "92ae084e-1ea2-43de-e65f-2100e3568243"
      },
      "outputs": [
        {
          "data": {
            "text/plain": [
              "<Axes: xlabel='count', ylabel='offense_description'>"
            ]
          },
          "execution_count": 23,
          "metadata": {},
          "output_type": "execute_result"
        },
        {
          "data": {
            "image/png": "[encoded data removed]",
            "text/plain": [
              "<Figure size 1000x600 with 1 Axes>"
            ]
          },
          "metadata": {},
          "output_type": "display_data"
        }
      ],
      "source": [
        "# set the fiture size\n",
        "plt.figure(figsize=(10,6))\n",
        "\n",
        "sns.barplot(data=pd_df, y='offense_description',x=\"count\", orient='h', palette='Blues_r')"
      ]
    },
    {
      "cell_type": "markdown",
      "id": "068268f0-4bef-4a83-b689-77f79f78392d",
      "metadata": {
        "id": "068268f0-4bef-4a83-b689-77f79f78392d"
      },
      "source": [
        "## Put your solutions in the following section"
      ]
    },
    {
      "cell_type": "code",
      "execution_count": null,
      "id": "d414ec97-42fd-4a7f-86f8-6874c49b983b",
      "metadata": {
        "id": "d414ec97-42fd-4a7f-86f8-6874c49b983b"
      },
      "outputs": [],
      "source": []
    }
  ],
  "metadata": {
    "kernelspec": {
      "display_name": "BigDataEnv",
      "language": "python",
      "name": "bigdataenv"
    },
    "language_info": {
      "codemirror_mode": {
        "name": "ipython",
        "version": 3
      },
      "file_extension": ".py",
      "mimetype": "text/x-python",
      "name": "python",
      "nbconvert_exporter": "python",
      "pygments_lexer": "ipython3",
      "version": "3.12.11"
    },
    "colab": {
      "provenance": []
    }
  },
  "nbformat": 4,
  "nbformat_minor": 5
}