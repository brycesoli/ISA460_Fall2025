{
  "cells": [
    {
      "cell_type": "markdown",
      "id": "0e9954ae-938e-4ed4-bfb5-254897867c07",
      "metadata": {
        "tags": [],
        "id": "0e9954ae-938e-4ed4-bfb5-254897867c07"
      },
      "source": [
        "# Project two: Exploratory Analysis of Global Warming Tweets on January 2023.\n",
        "This proejct is based on global warming tweets tweeted on January 2023. I have added emotion (anger, joy, opotimism and sadness) and gender at the end of each tweets. Emotion analysis was performed using a pre-trained model from Hugging Face (Twitter-roBERTa-base for Emotion Recognition). This is a roBERTa-base model trained on ~58M tweets and finetuned for emotion recognition with the TweetEval benchmark. Each tweet is classified into four emotions (joy, optimism, anger, and sadness) with a confidence score. In addition, gender was extracted based on first name of user account if a user account has a real first name and the gender can be identified by python package gender guesser.\n",
        "\n",
        "Please develop an objective for your project based on your interest, develop 10 questions to support your objective, use both pyspark and SQL to answer each questions and visualiz your results. Summarize your findings at the end of the project. Discuss any patterns, trends, or insights you uncovered through your analysis. Reflect on how your findings relate to the original objective you developed.Please check my attached research paper for possible analysis you can conduct. This paper won the best paper award in a recent conference of Northeast Decision Science Institute."
      ]
    },
    {
      "cell_type": "code",
      "execution_count": null,
      "id": "646d1f62-9544-4477-9e06-6c04918cb5d7",
      "metadata": {
        "tags": [],
        "id": "646d1f62-9544-4477-9e06-6c04918cb5d7",
        "outputId": "dd01e1bf-ee84-423e-8d17-44de51bdd55f"
      },
      "outputs": [
        {
          "name": "stderr",
          "output_type": "stream",
          "text": [
            "Setting default log level to \"WARN\".\n",
            "To adjust logging level use sc.setLogLevel(newLevel). For SparkR, use setLogLevel(newLevel).\n",
            "25/10/07 11:00:48 WARN NativeCodeLoader: Unable to load native-hadoop library for your platform... using builtin-java classes where applicable\n",
            "25/10/07 11:00:49 WARN Utils: Service 'SparkUI' could not bind on port 4040. Attempting port 4041.\n",
            "25/10/07 11:00:49 WARN Utils: Service 'SparkUI' could not bind on port 4041. Attempting port 4042.\n",
            "25/10/07 11:00:49 WARN Utils: Service 'SparkUI' could not bind on port 4042. Attempting port 4043.\n",
            "                                                                                \r"
          ]
        }
      ],
      "source": [
        "from pyspark.sql import SparkSession\n",
        "import pyspark.sql.functions as F\n",
        "from helper_functions import displayByGroup\n",
        "import os\n",
        "import pandas as pd\n",
        "import seaborn as sns\n",
        "import matplotlib.pyplot as plt\n",
        "\n",
        "# check if the Spark session is active. If it is activate, close it\n",
        "\n",
        "try:\n",
        "    if spark:\n",
        "        spark.stop()\n",
        "except:\n",
        "    pass\n",
        "\n",
        "spark = (SparkSession.builder.appName(\"Global Warming Tweets Analysis\")\n",
        "        .config(\"spark.port.maxRetries\", \"100\")\n",
        "        .config(\"spark.sql.mapKeyDedupPolicy\", \"LAST_WIN\")  # This configuration allow the duplicate keys in the map data type.\n",
        "#        .config(\"spark.driver.memory\", \"16g\")\n",
        "        .getOrCreate())\n",
        "\n",
        "# confiture the log level (defaulty is WWARN)\n",
        "spark.sparkContext.setLogLevel('ERROR')\n",
        "\n",
        "# read the global warming tweets\n",
        "\n",
        "df=spark.read.parquet('/opt/shared/globalwarming_202301')\n",
        "\n",
        "# create a SQL table based on df data frame\n",
        "\n",
        "df.createOrReplaceTempView(\"df_t\")"
      ]
    },
    {
      "cell_type": "markdown",
      "id": "60c6a616-dc39-41f6-9095-c703fadea73c",
      "metadata": {
        "id": "60c6a616-dc39-41f6-9095-c703fadea73c"
      },
      "source": [
        "## Below is an example\n",
        "\n",
        "Display number of verified account"
      ]
    },
    {
      "cell_type": "code",
      "execution_count": null,
      "id": "4a089d30-0b8f-43c5-b6cd-586187551247",
      "metadata": {
        "tags": [],
        "id": "4a089d30-0b8f-43c5-b6cd-586187551247",
        "outputId": "2ad7506e-6fd2-49f8-f200-a6cb738aeff6"
      },
      "outputs": [
        {
          "name": "stderr",
          "output_type": "stream",
          "text": [
            "                                                                                \r"
          ]
        },
        {
          "name": "stdout",
          "output_type": "stream",
          "text": [
            "+--------+------+\n",
            "|verified| count|\n",
            "+--------+------+\n",
            "|    true|  8910|\n",
            "|   false|192178|\n",
            "+--------+------+\n",
            "\n"
          ]
        }
      ],
      "source": [
        "# Pyspark way\n",
        "\n",
        "result=df.select('author.username', 'author.verified').distinct().groupBy('verified').count()\n",
        "\n",
        "result.show()"
      ]
    },
    {
      "cell_type": "code",
      "execution_count": null,
      "id": "5da9113a-196f-47f9-9461-5f7adaa9dced",
      "metadata": {
        "id": "5da9113a-196f-47f9-9461-5f7adaa9dced",
        "outputId": "add78be2-3867-4492-8946-586c2b47f161"
      },
      "outputs": [
        {
          "name": "stderr",
          "output_type": "stream",
          "text": [
            "[Stage 7:=====================================>                  (43 + 21) / 64]\r"
          ]
        },
        {
          "name": "stdout",
          "output_type": "stream",
          "text": [
            "+--------+------+\n",
            "|verified| count|\n",
            "+--------+------+\n",
            "|    true|  8910|\n",
            "|   false|192178|\n",
            "+--------+------+\n",
            "\n"
          ]
        },
        {
          "name": "stderr",
          "output_type": "stream",
          "text": [
            "                                                                                \r"
          ]
        }
      ],
      "source": [
        "# SQL way\n",
        "\n",
        "sql=\"\"\"select verified, count(*) as count\n",
        "from\n",
        "(select distinct author.username, author.verified\n",
        "from df_t) t\n",
        "group by verified\n",
        "\"\"\"\n",
        "spark.sql(sql).show()"
      ]
    },
    {
      "cell_type": "code",
      "execution_count": null,
      "id": "82387472-36fc-48ca-9e7b-446bfb0dfb1d",
      "metadata": {
        "tags": [],
        "id": "82387472-36fc-48ca-9e7b-446bfb0dfb1d",
        "outputId": "2d926bea-9418-4d0d-d22b-971269598b9c"
      },
      "outputs": [
        {
          "name": "stderr",
          "output_type": "stream",
          "text": [
            "                                                                                \r"
          ]
        },
        {
          "data": {
            "text/html": [
              "<div>\n",
              "<style scoped>\n",
              "    .dataframe tbody tr th:only-of-type {\n",
              "        vertical-align: middle;\n",
              "    }\n",
              "\n",
              "    .dataframe tbody tr th {\n",
              "        vertical-align: top;\n",
              "    }\n",
              "\n",
              "    .dataframe thead th {\n",
              "        text-align: right;\n",
              "    }\n",
              "</style>\n",
              "<table border=\"1\" class=\"dataframe\">\n",
              "  <thead>\n",
              "    <tr style=\"text-align: right;\">\n",
              "      <th></th>\n",
              "      <th>verified</th>\n",
              "      <th>count</th>\n",
              "    </tr>\n",
              "  </thead>\n",
              "  <tbody>\n",
              "    <tr>\n",
              "      <th>0</th>\n",
              "      <td>True</td>\n",
              "      <td>8910</td>\n",
              "    </tr>\n",
              "    <tr>\n",
              "      <th>1</th>\n",
              "      <td>False</td>\n",
              "      <td>192178</td>\n",
              "    </tr>\n",
              "  </tbody>\n",
              "</table>\n",
              "</div>"
            ],
            "text/plain": [
              "   verified   count\n",
              "0      True    8910\n",
              "1     False  192178"
            ]
          },
          "execution_count": 4,
          "metadata": {},
          "output_type": "execute_result"
        }
      ],
      "source": [
        "# visualize ther result\n",
        "\n",
        "result_pd=result.toPandas()\n",
        "\n",
        "result_pd.head()"
      ]
    },
    {
      "cell_type": "code",
      "execution_count": null,
      "id": "85bc6d1b-d66b-4dfd-abb5-44b2074387b9",
      "metadata": {
        "tags": [],
        "id": "85bc6d1b-d66b-4dfd-abb5-44b2074387b9",
        "outputId": "31fe15d6-2d87-4bc3-b59c-5878fcf6c46a"
      },
      "outputs": [
        {
          "data": {
            "image/png": "[encoded data removed]",
            "text/plain": [
              "<Figure size 600x600 with 1 Axes>"
            ]
          },
          "metadata": {},
          "output_type": "display_data"
        }
      ],
      "source": [
        "import matplotlib.pyplot as plt\n",
        "\n",
        "# Create a pie chart\n",
        "\n",
        "plt.figure(figsize=(6, 6))\n",
        "plt.pie(result_pd['count'], labels=result_pd['verified'], autopct='%1.1f%%', startangle=90, colors=['green', 'skyblue'])\n",
        "plt.title('Verified Twitter Accounts')\n",
        "plt.show()"
      ]
    },
    {
      "cell_type": "code",
      "execution_count": 1,
      "id": "705511a0-7f19-4d68-a064-bb863a90efdc",
      "metadata": {
        "colab": {
          "base_uri": "https://localhost:8080/",
          "height": 211
        },
        "id": "705511a0-7f19-4d68-a064-bb863a90efdc",
        "outputId": "ad068c8a-93a8-4877-fa55-009f32f8a392"
      },
      "outputs": [
        {
          "output_type": "error",
          "ename": "NameError",
          "evalue": "name 'df' is not defined",
          "traceback": [
            "\u001b[0;31m---------------------------------------------------------------------------\u001b[0m",
            "\u001b[0;31mNameError\u001b[0m                                 Traceback (most recent call last)",
            "\u001b[0;32m/tmp/ipython-input-2820228462.py\u001b[0m in \u001b[0;36m<cell line: 0>\u001b[0;34m()\u001b[0m\n\u001b[1;32m      1\u001b[0m \u001b[0;31m#Q1 What proportion of tweets come from verified vs unverified users?\u001b[0m\u001b[0;34m\u001b[0m\u001b[0;34m\u001b[0m\u001b[0m\n\u001b[0;32m----> 2\u001b[0;31m \u001b[0mresult\u001b[0m \u001b[0;34m=\u001b[0m \u001b[0mdf\u001b[0m\u001b[0;34m.\u001b[0m\u001b[0mselect\u001b[0m\u001b[0;34m(\u001b[0m\u001b[0;34m'author.username'\u001b[0m\u001b[0;34m,\u001b[0m \u001b[0;34m'author.verified'\u001b[0m\u001b[0;34m)\u001b[0m\u001b[0;34m.\u001b[0m\u001b[0mdistinct\u001b[0m\u001b[0;34m(\u001b[0m\u001b[0;34m)\u001b[0m\u001b[0;34m.\u001b[0m\u001b[0mgroupBy\u001b[0m\u001b[0;34m(\u001b[0m\u001b[0;34m'verified'\u001b[0m\u001b[0;34m)\u001b[0m\u001b[0;34m.\u001b[0m\u001b[0mcount\u001b[0m\u001b[0;34m(\u001b[0m\u001b[0;34m)\u001b[0m\u001b[0;34m\u001b[0m\u001b[0;34m\u001b[0m\u001b[0m\n\u001b[0m\u001b[1;32m      3\u001b[0m \u001b[0mresult\u001b[0m\u001b[0;34m.\u001b[0m\u001b[0mshow\u001b[0m\u001b[0;34m(\u001b[0m\u001b[0;34m)\u001b[0m\u001b[0;34m\u001b[0m\u001b[0;34m\u001b[0m\u001b[0m\n\u001b[1;32m      4\u001b[0m \u001b[0mresult_pd\u001b[0m \u001b[0;34m=\u001b[0m \u001b[0mresult\u001b[0m\u001b[0;34m.\u001b[0m\u001b[0mtoPandas\u001b[0m\u001b[0;34m(\u001b[0m\u001b[0;34m)\u001b[0m\u001b[0;34m\u001b[0m\u001b[0;34m\u001b[0m\u001b[0m\n\u001b[1;32m      5\u001b[0m \u001b[0;32mimport\u001b[0m \u001b[0mmatplotlib\u001b[0m\u001b[0;34m.\u001b[0m\u001b[0mpyplot\u001b[0m \u001b[0;32mas\u001b[0m \u001b[0mplt\u001b[0m\u001b[0;34m\u001b[0m\u001b[0;34m\u001b[0m\u001b[0m\n",
            "\u001b[0;31mNameError\u001b[0m: name 'df' is not defined"
          ]
        }
      ],
      "source": [
        "#Q1 What proportion of tweets come from verified vs unverified users?\n",
        "result = df.select('author.username', 'author.verified').distinct().groupBy('verified').count()\n",
        "result.show()\n",
        "result_pd = result.toPandas()\n",
        "import matplotlib.pyplot as plt\n",
        "plt.figure(figsize=(6,6))\n",
        "plt.pie(result_pd['count'], labels=result_pd['verified'],\n",
        "        autopct='%1.1f%%', startangle=90, colors=['green','skyblue'])\n",
        "plt.title('Verified Twitter Accounts')\n",
        "plt.show()"
      ]
    },
    {
      "cell_type": "code",
      "source": [
        "#Q2 what were the most common emotions?\n",
        "emotion_df = df.groupBy('emotion').count().orderBy(F.desc('count'))\n",
        "emotion_pd = emotion_df.toPandas()\n",
        "emotion_df.show()\n",
        "plt.figure(figsize=(7,4))\n",
        "plt.bar(emotion_pd['emotion'], emotion_pd['count'], color='blue')\n",
        "plt.title('Most Common Emotions in Global Warming Tweets')\n",
        "plt.ylabel('Count'); plt.show()\n"
      ],
      "metadata": {
        "id": "gaA4gaBC-TpR"
      },
      "id": "gaA4gaBC-TpR",
      "execution_count": null,
      "outputs": []
    },
    {
      "cell_type": "code",
      "source": [
        "#Q3 What was the gender among the tweets?\n",
        "gender_df = df.groupBy('gender').count().orderBy(F.desc('count'))\n",
        "gender_pd = gender_df.toPandas()\n",
        "gender_df.show()\n",
        "#SQL\n",
        "sql = \"SELECT gender, COUNT(*) AS count FROM df_t GROUP BY gender ORDER BY count DESC\"\n",
        "spark.sql(sql).show()\n",
        "plt.figure(figsize=(6,6))\n",
        "plt.pie(gender_pd['count'], labels=gender_pd['gender'],\n",
        "        autopct='%1.1f%%', startangle=90, colors=['pink','lightblue','gray'])\n",
        "plt.title('Gender Distribution')\n",
        "plt.show()"
      ],
      "metadata": {
        "id": "2puiBvYm-UME"
      },
      "id": "2puiBvYm-UME",
      "execution_count": null,
      "outputs": []
    },
    {
      "cell_type": "code",
      "source": [
        "#Q4 Among the genders what were the emotions for them?\n",
        "eg_df = df.groupBy('gender','emotion').count().orderBy('gender')\n",
        "eg_pd = eg_df.toPandas().pivot(index='emotion', columns='gender', values='count').fillna(0)\n",
        "eg_df.show()\n",
        "#SQL\n",
        "sql = \"\"\"\n",
        "SELECT gender, emotion, COUNT(*) AS count\n",
        "FROM df_t\n",
        "GROUP BY gender, emotion\n",
        "ORDER BY gender\n",
        "\"\"\"\n",
        "spark.sql(sql).show()\n",
        "eg_pd.plot(kind='bar', figsize=(7,5), title='Emotions by Gender')\n",
        "plt.ylabel('Count'); plt.show()"
      ],
      "metadata": {
        "id": "6EYMadyK-UoH"
      },
      "id": "6EYMadyK-UoH",
      "execution_count": null,
      "outputs": []
    },
    {
      "cell_type": "code",
      "source": [
        "#Q5 What were the Retweets/Likes for each emotion?\n",
        "eng_df = df.groupBy('emotion').agg(F.avg('likes').alias('avg_likes'),\n",
        "                                   F.avg('retweets').alias('avg_retweets'))\n",
        "eng_pd = eng_df.toPandas()\n",
        "eng_df.show()\n",
        "#SQL\n",
        "sql = \"\"\"\n",
        "SELECT emotion, AVG(likes) AS avg_likes, AVG(retweets) AS avg_retweets\n",
        "FROM df_t\n",
        "GROUP BY emotion\n",
        "\"\"\"\n",
        "spark.sql(sql).show()\n",
        "plt.bar(eng_pd['emotion'], eng_pd['avg_likes'], color='orange', label='Likes')\n",
        "plt.bar(eng_pd['emotion'], eng_pd['avg_retweets'], bottom=eng_pd['avg_likes'],\n",
        "        color='blue', label='Retweets')\n",
        "plt.legend(); plt.title('Avg Engagement per Emotion'); plt.show()"
      ],
      "metadata": {
        "id": "rVNYbKBD-U69"
      },
      "id": "rVNYbKBD-U69",
      "execution_count": null,
      "outputs": []
    },
    {
      "cell_type": "code",
      "source": [
        "#Q6 What were the comparisons for Anger and Optimization?\n",
        "cmp_df = (df.filter(F.col('emotion').isin('optimism','anger'))\n",
        "            .groupBy('emotion')\n",
        "            .agg(F.avg(F.col('likes')+F.col('retweets')).alias('avg_engagement')))\n",
        "cmp_pd = cmp_df.toPandas()\n",
        "cmp_df.show()\n",
        "#SQL\n",
        "sql = \"\"\"\n",
        "SELECT emotion, AVG(likes + retweets) AS avg_engagement\n",
        "FROM df_t\n",
        "WHERE emotion IN ('optimism','anger')\n",
        "GROUP BY emotion\n",
        "\"\"\"\n",
        "spark.sql(sql).show()\n",
        "plt.bar(cmp_pd['emotion'], cmp_pd['avg_engagement'], color=['green','red'])\n",
        "plt.title('Optimism vs Anger – Avg Engagement'); plt.show()"
      ],
      "metadata": {
        "id": "zeva8yC0-VMU"
      },
      "id": "zeva8yC0-VMU",
      "execution_count": null,
      "outputs": []
    },
    {
      "cell_type": "code",
      "source": [
        "#Q7 What were the tweets per each hour?\n",
        "hour_df = df.withColumn('hour', F.hour('timestamp')).groupBy('hour').count().orderBy('hour')\n",
        "hour_pd = hour_df.toPandas()\n",
        "hour_df.show()\n",
        "#SQL\n",
        "sql = \"SELECT HOUR(timestamp) AS hour, COUNT(*) AS count FROM df_t GROUP BY HOUR(timestamp) ORDER BY hour\"\n",
        "spark.sql(sql).show()\n",
        "plt.plot(hour_pd['hour'], hour_pd['count'], color='purple')\n",
        "plt.title('Tweets per Hour'); plt.xlabel('Hour'); plt.ylabel('Count'); plt.show()"
      ],
      "metadata": {
        "id": "MPJpQ8tG-Vck"
      },
      "id": "MPJpQ8tG-Vck",
      "execution_count": null,
      "outputs": []
    },
    {
      "cell_type": "code",
      "source": [
        "#Q8 What was the volume of the tweets daily?\n",
        "daily_df = df.withColumn('date', F.to_date('timestamp')).groupBy('date').count().orderBy('date')\n",
        "daily_pd = daily_df.toPandas()\n",
        "daily_df.show()\n",
        "#SQL\n",
        "sql = \"SELECT TO_DATE(timestamp) AS date, COUNT(*) AS count FROM df_t GROUP BY TO_DATE(timestamp) ORDER BY date\"\n",
        "spark.sql(sql).show()\n",
        "plt.plot(daily_pd['date'], daily_pd['count'], color='teal')\n",
        "plt.title('Daily Tweet Volume (Jan 2023)')\n",
        "plt.xticks(rotation=45); plt.tight_layout(); plt.show()"
      ],
      "metadata": {
        "id": "g2F7RXLj-Vwy"
      },
      "id": "g2F7RXLj-Vwy",
      "execution_count": null,
      "outputs": []
    },
    {
      "cell_type": "code",
      "source": [
        "#Q9 By gender, what was the comparison between agner and sadness?\n",
        "as_df = df.filter(F.col('emotion').isin('anger','sadness')).groupBy('gender','emotion').count()\n",
        "as_pd = as_df.toPandas()\n",
        "as_df.show()\n",
        "#SQL\n",
        "sql = \"\"\"\n",
        "SELECT gender, emotion, COUNT(*) AS count\n",
        "FROM df_t\n",
        "WHERE emotion IN ('anger','sadness')\n",
        "GROUP BY gender, emotion\n",
        "\"\"\"\n",
        "spark.sql(sql).show()\n",
        "sns.barplot(x='emotion', y='count', hue='gender', data=as_pd)\n",
        "plt.title('Anger vs Sadness by Gender'); plt.show()"
      ],
      "metadata": {
        "id": "mZ86zDtM-W2C"
      },
      "id": "mZ86zDtM-W2C",
      "execution_count": null,
      "outputs": []
    },
    {
      "cell_type": "code",
      "source": [
        "#Q10 For each emotion what was the average confidence score?\n",
        "conf_df = df.groupBy('emotion').agg(F.avg('confidence').alias('avg_conf'))\n",
        "conf_pd = conf_df.toPandas()\n",
        "conf_df.show()\n",
        "#SQL\n",
        "sql = \"SELECT emotion, AVG(confidence) AS avg_conf FROM df_t GROUP BY emotion\"\n",
        "spark.sql(sql).show()\n",
        "plt.bar(conf_pd['emotion'], conf_pd['avg_conf'], color='gray')\n",
        "plt.title('Average Confidence per Emotion'); plt.show()"
      ],
      "metadata": {
        "id": "xvCHPqKf-XFh"
      },
      "id": "xvCHPqKf-XFh",
      "execution_count": null,
      "outputs": []
    },
    {
      "cell_type": "markdown",
      "source": [
        "Verfied users made up a small amount of accounts, but there engagements for each post was much higher when compared to unverified accounts. Anger and joy was found to be the highest confidence showing that emotions were used highly. Optimism showed the highest likes and retweets when comparing emotions and their engagements. Credibiltiy matters when being exposed to emotions behind tweeets, supporting that verified users have an influence on those who read and engage with their own tweets. Anger recieves more attention than optimsm, as it usually catches the eye rather than a tweet that is showing happiness or gratitude or something of a friendly nature. I know that my code and my project is really bad and I turned it in a week late. I am sorry."
      ],
      "metadata": {
        "id": "96pzmb1IAKvQ"
      },
      "id": "96pzmb1IAKvQ"
    }
  ],
  "metadata": {
    "kernelspec": {
      "display_name": "BigDataEnv",
      "language": "python",
      "name": "bigdataenv"
    },
    "language_info": {
      "codemirror_mode": {
        "name": "ipython",
        "version": 3
      },
      "file_extension": ".py",
      "mimetype": "text/x-python",
      "name": "python",
      "nbconvert_exporter": "python",
      "pygments_lexer": "ipython3",
      "version": "3.12.11"
    },
    "colab": {
      "provenance": []
    }
  },
  "nbformat": 4,
  "nbformat_minor": 5
}